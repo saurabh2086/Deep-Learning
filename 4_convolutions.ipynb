{
 "cells": [
  {
   "cell_type": "code",
   "execution_count": 6,
   "metadata": {
    "collapsed": true
   },
   "outputs": [],
   "source": [
    "# These are all the modules we'll be using later. Make sure you can import them\n",
    "# before proceeding further.\n",
    "from __future__ import print_function\n",
    "import numpy as np\n",
    "import tensorflow as tf\n",
    "from six.moves import cPickle as pickle\n",
    "from six.moves import range"
   ]
  },
  {
   "cell_type": "code",
   "execution_count": 7,
   "metadata": {
    "collapsed": false
   },
   "outputs": [
    {
     "name": "stdout",
     "output_type": "stream",
     "text": [
      "Training set (200000, 28, 28) (200000,)\n",
      "Validation set (10000, 28, 28) (10000,)\n",
      "Test set (10000, 28, 28) (10000,)\n"
     ]
    }
   ],
   "source": [
    "pickle_file = 'notMNIST.pickle'\n",
    "\n",
    "with open(pickle_file, 'rb') as f:\n",
    "    save = pickle.load(f)\n",
    "    train_dataset = save['train_dataset']\n",
    "    train_labels = save['train_labels']\n",
    "    valid_dataset = save['valid_dataset']\n",
    "    valid_labels = save['valid_labels']\n",
    "    test_dataset = save['test_dataset']\n",
    "    test_labels = save['test_labels']\n",
    "    del save  # hint to help gc free up memory\n",
    "    print('Training set', train_dataset.shape, train_labels.shape)\n",
    "    print('Validation set', valid_dataset.shape, valid_labels.shape)\n",
    "    print('Test set', test_dataset.shape, test_labels.shape)"
   ]
  },
  {
   "cell_type": "markdown",
   "metadata": {},
   "source": [
    "Reformat into a TensorFlow-friendly shape:\n",
    "\n",
    "* convolutions need the image data formatted as a cube (width by height by #channels)\n",
    "* labels as float 1-hot encodings."
   ]
  },
  {
   "cell_type": "code",
   "execution_count": 8,
   "metadata": {
    "collapsed": false
   },
   "outputs": [
    {
     "name": "stdout",
     "output_type": "stream",
     "text": [
      "Training set (200000, 28, 28, 1) (200000, 10)\n",
      "Validation set (10000, 28, 28, 1) (10000, 10)\n",
      "Test set (10000, 28, 28, 1) (10000, 10)\n"
     ]
    }
   ],
   "source": [
    "image_size = 28\n",
    "num_labels = 10\n",
    "num_channels = 1 # grayscale\n",
    "\n",
    "import numpy as np\n",
    "\n",
    "def reformat(dataset, labels):\n",
    "    dataset = dataset.reshape(\n",
    "        (-1, image_size, image_size, num_channels)).astype(np.float32)\n",
    "    labels = (np.arange(num_labels) == labels[:,None]).astype(np.float32)\n",
    "    return dataset, labels\n",
    "\n",
    "train_dataset, train_labels = reformat(train_dataset, train_labels)\n",
    "valid_dataset, valid_labels = reformat(valid_dataset, valid_labels)\n",
    "test_dataset, test_labels = reformat(test_dataset, test_labels)\n",
    "print('Training set', train_dataset.shape, train_labels.shape)\n",
    "print('Validation set', valid_dataset.shape, valid_labels.shape)\n",
    "print('Test set', test_dataset.shape, test_labels.shape)"
   ]
  },
  {
   "cell_type": "code",
   "execution_count": 9,
   "metadata": {
    "collapsed": true
   },
   "outputs": [],
   "source": [
    "def accuracy(predictions, labels):\n",
    "    return (100.0 * np.sum(np.argmax(predictions, 1) == np.argmax(labels, 1))\n",
    "          / predictions.shape[0])"
   ]
  },
  {
   "cell_type": "markdown",
   "metadata": {},
   "source": [
    "Let's build a small network with two convolutional layers, followed by one fully connected layer. Convolutional networks are more expensive computationally, so we'll limit its depth and number of fully connected nodes."
   ]
  },
  {
   "cell_type": "code",
   "execution_count": 30,
   "metadata": {
    "collapsed": false
   },
   "outputs": [],
   "source": [
    "batch_size = 16\n",
    "patch_size = 5\n",
    "depth = 16\n",
    "num_hidden = 64\n",
    "\n",
    "graph = tf.Graph()\n",
    "\n",
    "with graph.as_default():\n",
    "    \n",
    "    # input data\n",
    "    tf_train_dataset = tf.placeholder(\n",
    "        tf.float32, shape=(batch_size,image_size,image_size,num_channels))\n",
    "    tf_train_labels = tf.placeholder(tf.float32, shape=(batch_size,num_labels))\n",
    "    tf_valid_dataset = tf.constant(valid_dataset)\n",
    "    tf_test_dataset = tf.constant(test_dataset)\n",
    "    \n",
    "    # Variables.\n",
    "    layer1_weights = tf.Variable(tf.truncated_normal([patch_size,patch_size,num_channels,depth],stddev=0.1))\n",
    "    layer1_biases = tf.Variable(tf.zeros([depth]))\n",
    "    \n",
    "    layer2_weights = tf.Variable(tf.truncated_normal([patch_size,patch_size,depth,depth],stddev=0.1))\n",
    "    layer2_biases = tf.constant(1.0,shape=[depth])\n",
    "    \n",
    "    layer3_weights = tf.Variable(tf.truncated_normal([image_size // 4 * image_size // 4 * depth, num_hidden],stddev=0.1))\n",
    "    layer3_biases = tf.Variable(tf.constant(1.0, shape=[num_hidden]))\n",
    "    \n",
    "    layer4_weights = tf.Variable(tf.truncated_normal([num_hidden, num_labels],stddev=0.1))\n",
    "    layer4_biases = tf.Variable(tf.constant(1.0,shape=[num_labels]))\n",
    "    \n",
    "    #model\n",
    "    def model(data):\n",
    "        conv = tf.nn.conv2d(data,layer1_weights,[1,2,2,1],padding='SAME')\n",
    "        hidden = tf.nn.relu(conv + layer1_biases)\n",
    "        conv = tf.nn.conv2d(hidden,layer2_weights,[1,2,2,1],padding='SAME')\n",
    "        hidden = tf.nn.relu(conv + layer2_biases)\n",
    "        shape = hidden.get_shape().as_list()\n",
    "        reshape = tf.reshape(hidden,[shape[0],shape[1] * shape[2] * shape[3]])\n",
    "        hidden = tf.nn.relu(tf.matmul(reshape, layer3_weights) + layer3_biases)\n",
    "        return tf.matmul(hidden,layer4_weights) + layer4_biases\n",
    "    \n",
    "    # Training computation.\n",
    "    logits = model(tf_train_dataset)\n",
    "    loss = tf.reduce_mean(tf.nn.softmax_cross_entropy_with_logits(logits,tf_train_labels))\n",
    "    optimizer = tf.train.GradientDescentOptimizer(0.05).minimize(loss)\n",
    "    \n",
    "    #prediction for training, validation and test set \n",
    "    train_prediction = tf.nn.softmax(logits)\n",
    "    valid_prediction = tf.nn.softmax(model(tf_valid_dataset))\n",
    "    test_prediction = tf.nn.softmax(model(tf_test_dataset))"
   ]
  },
  {
   "cell_type": "code",
   "execution_count": 32,
   "metadata": {
    "collapsed": false
   },
   "outputs": [
    {
     "name": "stdout",
     "output_type": "stream",
     "text": [
      "Initialized\n",
      "Minibatch loss at step 0: 4.325710\n",
      "Minibatch accuracy: 18.8%\n",
      "Validation accuracy: 11.2%\n",
      "Minibatch loss at step 50: 1.843621\n",
      "Minibatch accuracy: 0.0%\n",
      "Validation accuracy: 43.1%\n",
      "Minibatch loss at step 100: 1.346868\n",
      "Minibatch accuracy: 12.5%\n",
      "Validation accuracy: 66.2%\n",
      "Minibatch loss at step 150: 0.763579\n",
      "Minibatch accuracy: 6.2%\n",
      "Validation accuracy: 74.7%\n",
      "Minibatch loss at step 200: 0.839596\n",
      "Minibatch accuracy: 18.8%\n",
      "Validation accuracy: 77.6%\n",
      "Minibatch loss at step 250: 1.127637\n",
      "Minibatch accuracy: 6.2%\n",
      "Validation accuracy: 76.8%\n",
      "Minibatch loss at step 300: 0.641350\n",
      "Minibatch accuracy: 6.2%\n",
      "Validation accuracy: 79.3%\n",
      "Minibatch loss at step 350: 0.537600\n",
      "Minibatch accuracy: 6.2%\n",
      "Validation accuracy: 77.1%\n",
      "Minibatch loss at step 400: 0.277393\n",
      "Minibatch accuracy: 12.5%\n",
      "Validation accuracy: 79.0%\n",
      "Minibatch loss at step 450: 0.834873\n",
      "Minibatch accuracy: 18.8%\n",
      "Validation accuracy: 79.8%\n",
      "Minibatch loss at step 500: 0.704327\n",
      "Minibatch accuracy: 12.5%\n",
      "Validation accuracy: 80.4%\n",
      "Minibatch loss at step 550: 1.086497\n",
      "Minibatch accuracy: 6.2%\n",
      "Validation accuracy: 80.8%\n",
      "Minibatch loss at step 600: 0.171262\n",
      "Minibatch accuracy: 12.5%\n",
      "Validation accuracy: 81.3%\n",
      "Minibatch loss at step 650: 0.880233\n",
      "Minibatch accuracy: 18.8%\n",
      "Validation accuracy: 80.8%\n",
      "Minibatch loss at step 700: 0.918361\n",
      "Minibatch accuracy: 12.5%\n",
      "Validation accuracy: 81.6%\n",
      "Minibatch loss at step 750: 0.043213\n",
      "Minibatch accuracy: 6.2%\n",
      "Validation accuracy: 81.8%\n",
      "Minibatch loss at step 800: 0.692296\n",
      "Minibatch accuracy: 0.0%\n",
      "Validation accuracy: 82.7%\n",
      "Minibatch loss at step 850: 0.815841\n",
      "Minibatch accuracy: 18.8%\n",
      "Validation accuracy: 81.6%\n",
      "Minibatch loss at step 900: 0.528100\n",
      "Minibatch accuracy: 6.2%\n",
      "Validation accuracy: 82.4%\n",
      "Minibatch loss at step 950: 0.623151\n",
      "Minibatch accuracy: 12.5%\n",
      "Validation accuracy: 82.8%\n",
      "Minibatch loss at step 1000: 0.579228\n",
      "Minibatch accuracy: 87.5%\n",
      "Validation accuracy: 82.0%\n",
      "Test accuracy: 89.3%\n"
     ]
    }
   ],
   "source": [
    "num_steps = 1001\n",
    "with tf.Session(graph=graph) as session:\n",
    "    tf.initialize_all_variables().run()\n",
    "    print(\"Initialized\")\n",
    "    for step in range(num_steps):\n",
    "        offset = (step * batch_size) % (train_labels.shape[0] - batch_size)\n",
    "        batch_data = train_dataset[offset:(offset + batch_size), :, :, :]\n",
    "        batch_labels = train_labels[offset:(offset + batch_size), :]\n",
    "        feed_dict = {tf_train_dataset : batch_data, tf_train_labels : batch_labels}\n",
    "        _, l, prediction = session.run(\n",
    "            [optimizer, loss, train_prediction], feed_dict=feed_dict)\n",
    "        if (step % 50 == 0):\n",
    "            print('Minibatch loss at step %d: %f' % (step, l))\n",
    "            print('Minibatch accuracy: %.1f%%' % accuracy(predictions, batch_labels))\n",
    "            print('Validation accuracy: %.1f%%' % accuracy(\n",
    "                    valid_prediction.eval(), valid_labels))\n",
    "    print('Test accuracy: %.1f%%' % accuracy(test_prediction.eval(), test_labels))"
   ]
  },
  {
   "cell_type": "markdown",
   "metadata": {},
   "source": [
    "# Problem 1\n",
    "The convolutional model above uses convolutions with stride 2 to reduce the dimensionality. Replace the strides by a max pooling operation (nn.max_pool()) of stride 2 and kernel size 2."
   ]
  },
  {
   "cell_type": "code",
   "execution_count": 37,
   "metadata": {
    "collapsed": false
   },
   "outputs": [],
   "source": [
    "batch_size = 16\n",
    "patch_size = 5\n",
    "depth = 16\n",
    "num_hidden = 64\n",
    "\n",
    "graph = tf.Graph()\n",
    "\n",
    "with graph.as_default():\n",
    "    \n",
    "    # input data\n",
    "    tf_train_dataset = tf.placeholder(\n",
    "        tf.float32, shape=(batch_size,image_size,image_size,num_channels))\n",
    "    tf_train_labels = tf.placeholder(tf.float32, shape=(batch_size,num_labels))\n",
    "    tf_valid_dataset = tf.constant(valid_dataset)\n",
    "    tf_test_dataset = tf.constant(test_dataset)\n",
    "    \n",
    "    # Variables.\n",
    "    layer1_weights = tf.Variable(tf.truncated_normal([patch_size,patch_size,num_channels,depth],stddev=0.1))\n",
    "    layer1_biases = tf.Variable(tf.zeros([depth]))\n",
    "    \n",
    "    layer2_weights = tf.Variable(tf.truncated_normal([patch_size,patch_size,depth,depth],stddev=0.1))\n",
    "    layer2_biases = tf.constant(1.0,shape=[depth])\n",
    "    \n",
    "    layer3_weights = tf.Variable(tf.truncated_normal([image_size // 4 * image_size // 4 * depth, num_hidden],stddev=0.1))\n",
    "    layer3_biases = tf.Variable(tf.constant(1.0, shape=[num_hidden]))\n",
    "    \n",
    "    layer4_weights = tf.Variable(tf.truncated_normal([num_hidden, num_labels],stddev=0.1))\n",
    "    layer4_biases = tf.Variable(tf.constant(1.0,shape=[num_labels]))\n",
    "    \n",
    "    #model\n",
    "    def model(data):\n",
    "        conv = tf.nn.conv2d(data,layer1_weights,[1,1,1,1],padding='SAME')\n",
    "        hidden = tf.nn.max_pool(tf.nn.relu(conv + layer1_biases),ksize=[1,2,2,1],strides=[1,2,2,1],padding='SAME')\n",
    "        conv = tf.nn.conv2d(hidden,layer2_weights,[1,1,1,1],padding='SAME')\n",
    "        hidden = tf.nn.max_pool(tf.nn.relu(conv + layer2_biases),ksize=[1,2,2,1],strides=[1,2,2,1],padding='SAME')\n",
    "        shape = hidden.get_shape().as_list()\n",
    "        reshape = tf.reshape(hidden,[shape[0],shape[1] * shape[2] * shape[3]])\n",
    "        hidden = tf.nn.relu(tf.matmul(reshape, layer3_weights) + layer3_biases)\n",
    "        return tf.matmul(hidden,layer4_weights) + layer4_biases\n",
    "    \n",
    "    # Training computation.\n",
    "    logits = model(tf_train_dataset)\n",
    "    loss = tf.reduce_mean(tf.nn.softmax_cross_entropy_with_logits(logits,tf_train_labels))\n",
    "    optimizer = tf.train.GradientDescentOptimizer(0.05).minimize(loss)\n",
    "    \n",
    "    #prediction for training, validation and test set \n",
    "    train_prediction = tf.nn.softmax(logits)\n",
    "    valid_prediction = tf.nn.softmax(model(tf_valid_dataset))\n",
    "    test_prediction = tf.nn.softmax(model(tf_test_dataset))"
   ]
  },
  {
   "cell_type": "code",
   "execution_count": 38,
   "metadata": {
    "collapsed": false
   },
   "outputs": [
    {
     "name": "stdout",
     "output_type": "stream",
     "text": [
      "Initialized\n",
      "Minibatch loss at step 0: 3.535640\n",
      "Minibatch accuracy: 18.8%\n",
      "Validation accuracy: 9.9%\n",
      "Minibatch loss at step 50: 1.964817\n",
      "Minibatch accuracy: 0.0%\n",
      "Validation accuracy: 32.1%\n",
      "Minibatch loss at step 100: 1.400084\n",
      "Minibatch accuracy: 12.5%\n",
      "Validation accuracy: 51.5%\n",
      "Minibatch loss at step 150: 0.755109\n",
      "Minibatch accuracy: 6.2%\n",
      "Validation accuracy: 71.4%\n",
      "Minibatch loss at step 200: 0.921390\n",
      "Minibatch accuracy: 18.8%\n",
      "Validation accuracy: 74.6%\n",
      "Minibatch loss at step 250: 1.043984\n",
      "Minibatch accuracy: 6.2%\n",
      "Validation accuracy: 75.9%\n",
      "Minibatch loss at step 300: 0.502369\n",
      "Minibatch accuracy: 6.2%\n",
      "Validation accuracy: 79.8%\n",
      "Minibatch loss at step 350: 0.808684\n",
      "Minibatch accuracy: 6.2%\n",
      "Validation accuracy: 77.0%\n",
      "Minibatch loss at step 400: 0.299206\n",
      "Minibatch accuracy: 12.5%\n",
      "Validation accuracy: 79.3%\n",
      "Minibatch loss at step 450: 0.698215\n",
      "Minibatch accuracy: 18.8%\n",
      "Validation accuracy: 78.4%\n",
      "Minibatch loss at step 500: 0.774870\n",
      "Minibatch accuracy: 12.5%\n",
      "Validation accuracy: 80.6%\n",
      "Minibatch loss at step 550: 0.674022\n",
      "Minibatch accuracy: 6.2%\n",
      "Validation accuracy: 81.2%\n",
      "Minibatch loss at step 600: 0.148385\n",
      "Minibatch accuracy: 12.5%\n",
      "Validation accuracy: 81.4%\n",
      "Minibatch loss at step 650: 1.128275\n",
      "Minibatch accuracy: 18.8%\n",
      "Validation accuracy: 81.6%\n",
      "Minibatch loss at step 700: 0.584129\n",
      "Minibatch accuracy: 12.5%\n",
      "Validation accuracy: 81.5%\n",
      "Minibatch loss at step 750: 0.056684\n",
      "Minibatch accuracy: 6.2%\n",
      "Validation accuracy: 82.8%\n",
      "Minibatch loss at step 800: 0.743132\n",
      "Minibatch accuracy: 0.0%\n",
      "Validation accuracy: 83.1%\n",
      "Minibatch loss at step 850: 0.627938\n",
      "Minibatch accuracy: 18.8%\n",
      "Validation accuracy: 83.3%\n",
      "Minibatch loss at step 900: 0.742144\n",
      "Minibatch accuracy: 6.2%\n",
      "Validation accuracy: 83.5%\n",
      "Minibatch loss at step 950: 0.562200\n",
      "Minibatch accuracy: 12.5%\n",
      "Validation accuracy: 83.8%\n",
      "Minibatch loss at step 1000: 0.731066\n",
      "Minibatch accuracy: 87.5%\n",
      "Validation accuracy: 83.9%\n",
      "Test accuracy: 90.9%\n"
     ]
    }
   ],
   "source": [
    "num_steps = 1001\n",
    "with tf.Session(graph=graph) as session:\n",
    "    tf.initialize_all_variables().run()\n",
    "    print(\"Initialized\")\n",
    "    for step in range(num_steps):\n",
    "        offset = (step * batch_size) % (train_labels.shape[0] - batch_size)\n",
    "        batch_data = train_dataset[offset:(offset + batch_size), :, :, :]\n",
    "        batch_labels = train_labels[offset:(offset + batch_size), :]\n",
    "        feed_dict = {tf_train_dataset : batch_data, tf_train_labels : batch_labels}\n",
    "        _, l, prediction = session.run(\n",
    "            [optimizer, loss, train_prediction], feed_dict=feed_dict)\n",
    "        if (step % 100 == 0):\n",
    "            print('Minibatch loss at step %d: %f' % (step, l))\n",
    "            print('Minibatch accuracy: %.1f%%' % accuracy(predictions, batch_labels))\n",
    "            print('Validation accuracy: %.1f%%' % accuracy(\n",
    "                    valid_prediction.eval(), valid_labels))\n",
    "    print('Test accuracy: %.1f%%' % accuracy(test_prediction.eval(), test_labels))"
   ]
  },
  {
   "cell_type": "code",
   "execution_count": null,
   "metadata": {
    "collapsed": true
   },
   "outputs": [],
   "source": []
  }
 ],
 "metadata": {
  "anaconda-cloud": {},
  "kernelspec": {
   "display_name": "Python [default]",
   "language": "python",
   "name": "python2"
  },
  "language_info": {
   "codemirror_mode": {
    "name": "ipython",
    "version": 2
   },
   "file_extension": ".py",
   "mimetype": "text/x-python",
   "name": "python",
   "nbconvert_exporter": "python",
   "pygments_lexer": "ipython2",
   "version": "2.7.12"
  }
 },
 "nbformat": 4,
 "nbformat_minor": 0
}
