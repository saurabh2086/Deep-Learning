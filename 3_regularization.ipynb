{
 "cells": [
  {
   "cell_type": "markdown",
   "metadata": {},
   "source": [
    "# Deep Learning"
   ]
  },
  {
   "cell_type": "markdown",
   "metadata": {},
   "source": [
    "## Assignment 3"
   ]
  },
  {
   "cell_type": "markdown",
   "metadata": {},
   "source": [
    "Previously in 2_fullyconnected.ipynb, you trained a logistic regression and a neural network model.\n",
    "\n",
    "\n",
    "The goal of this assignment is to explore regularization techniques.\n"
   ]
  },
  {
   "cell_type": "code",
   "execution_count": 1,
   "metadata": {
    "collapsed": true
   },
   "outputs": [],
   "source": [
    "# These are all the modules we'll be using later. Make sure you can import them\n",
    "# before proceeding further.\n",
    "from __future__ import print_function\n",
    "import numpy as np\n",
    "import tensorflow as tf\n",
    "from six.moves import cPickle as pickle"
   ]
  },
  {
   "cell_type": "markdown",
   "metadata": {},
   "source": [
    "First reload the data we generated in notmist.ipynb."
   ]
  },
  {
   "cell_type": "code",
   "execution_count": 56,
   "metadata": {
    "collapsed": false
   },
   "outputs": [
    {
     "name": "stdout",
     "output_type": "stream",
     "text": [
      "Training set (200000, 28, 28) (200000,)\n",
      "Validation set (10000, 28, 28) (10000,)\n",
      "Test set (10000, 28, 28) (10000,)\n"
     ]
    }
   ],
   "source": [
    "pickle_file = 'notMNIST.pickle'\n",
    "\n",
    "with open(pickle_file, 'rb') as f:\n",
    "  save = pickle.load(f)\n",
    "  train_dataset = save['train_dataset']\n",
    "  train_labels = save['train_labels']\n",
    "  valid_dataset = save['valid_dataset']\n",
    "  valid_labels = save['valid_labels']\n",
    "  test_dataset = save['test_dataset']\n",
    "  test_labels = save['test_labels']\n",
    "  del save  # hint to help gc free up memory\n",
    "  print('Training set', train_dataset.shape, train_labels.shape)\n",
    "  print('Validation set', valid_dataset.shape, valid_labels.shape)\n",
    "  print('Test set', test_dataset.shape, test_labels.shape)"
   ]
  },
  {
   "cell_type": "markdown",
   "metadata": {},
   "source": [
    "Reformat into a shape that's more adapted to the models we're going to train:\n",
    "* data as a flat matrix,\n",
    "* labels as float 1-hot encodings.\n"
   ]
  },
  {
   "cell_type": "code",
   "execution_count": 57,
   "metadata": {
    "collapsed": false
   },
   "outputs": [
    {
     "name": "stdout",
     "output_type": "stream",
     "text": [
      "Training set (200000, 784) (200000, 10)\n",
      "Validation set (10000, 784) (10000, 10)\n",
      "Test set (10000, 784) (10000, 10)\n"
     ]
    }
   ],
   "source": [
    "image_size = 28\n",
    "num_labels = 10\n",
    "\n",
    "def reformat(dataset, labels):\n",
    "  dataset = dataset.reshape((-1, image_size * image_size)).astype(np.float32)\n",
    "  # Map 1 to [0.0, 1.0, 0.0 ...], 2 to [0.0, 0.0, 1.0 ...]\n",
    "  labels = (np.arange(num_labels) == labels[:,None]).astype(np.float32)\n",
    "  return dataset, labels\n",
    "train_dataset, train_labels = reformat(train_dataset, train_labels)\n",
    "valid_dataset, valid_labels = reformat(valid_dataset, valid_labels)\n",
    "test_dataset, test_labels = reformat(test_dataset, test_labels)\n",
    "print('Training set', train_dataset.shape, train_labels.shape)\n",
    "print('Validation set', valid_dataset.shape, valid_labels.shape)\n",
    "print('Test set', test_dataset.shape, test_labels.shape)"
   ]
  },
  {
   "cell_type": "code",
   "execution_count": 5,
   "metadata": {
    "collapsed": true
   },
   "outputs": [],
   "source": [
    "def accuracy(predictions, labels):\n",
    "  return (100.0 * np.sum(np.argmax(predictions, 1) == np.argmax(labels, 1))\n",
    "          / predictions.shape[0])"
   ]
  },
  {
   "cell_type": "markdown",
   "metadata": {},
   "source": [
    "\n",
    "### Problem 1\n",
    "Introduce and tune L2 regularization for both logistic and neural network models. Remember that L2 amounts to adding a penalty on the norm of the weights to the loss. In TensorFlow, you can compute the L2 loss for a tensor t using nn.l2_loss(t). The right amount of regularization should improve your validation / test accuracy."
   ]
  },
  {
   "cell_type": "markdown",
   "metadata": {},
   "source": [
    "# Logistic Regression "
   ]
  },
  {
   "cell_type": "code",
   "execution_count": 17,
   "metadata": {
    "collapsed": false
   },
   "outputs": [],
   "source": [
    "train_subset = 10000\n",
    "graph = tf.Graph()\n",
    "with graph.as_default():\n",
    "    #input data\n",
    "    # Load the training, validation and test data into constants that are\n",
    "    # attached to the graph.\n",
    "    tf_train_dataset = tf.constant(train_dataset[:train_subset,:])\n",
    "    tf_train_labels = tf.constant(train_labels[:train_subset])\n",
    "    tf_test_dataset = tf.constant(test_dataset)\n",
    "    tf_test_labels = tf.constant(test_labels)\n",
    "    tf_valid_dataset = tf.constant(valid_dataset)\n",
    "    tf_valid_labels = tf.constant(valid_labels)\n",
    "    \n",
    "    # Variables.\n",
    "    # These are the parameters that we are going to be training. The weight\n",
    "    # matrix will be initialized using random valued following a (truncated)\n",
    "    # normal distribution. The biases get initialized to zero.\n",
    "    weights = tf.Variable(tf.truncated_normal([image_size*image_size, num_labels]))\n",
    "    biases = tf.Variable(tf.zeros([num_labels]))\n",
    "    \n",
    "    # Training computation.\n",
    "    # We multiply the inputs with the weight matrix, and add biases. We compute\n",
    "    # the softmax and cross-entropy (it's one operation in TensorFlow, because\n",
    "    # it's very common, and it can be optimized). We take the average of this\n",
    "    # cross-entropy across all training examples: that's our loss.\n",
    "    logits = tf.matmul(tf_train_dataset,weights) + biases\n",
    "    reg_beta = 0.1\n",
    "    loss = tf.reduce_mean(tf.nn.softmax_cross_entropy_with_logits(logits,tf_train_labels) + reg_beta* tf.nn.l2_loss(weights)) \n",
    "    \n",
    "    \n",
    "    #Optimizer\n",
    "    # We are going to find the minimum of this loss using gradient descent.\n",
    "    optimizer = tf.train.GradientDescentOptimizer(0.25).minimize(loss)\n",
    "    \n",
    "    # Predictions for the training, validation, and test data.\n",
    "    # These are not part of training, but merely here so that we can report\n",
    "    # accuracy figures as we train.\n",
    "    train_prediction = tf.nn.softmax(logits)\n",
    "    valid_prediction = tf.nn.softmax(tf.matmul(tf_valid_dataset,weights) + biases)\n",
    "    test_prediction = tf.nn.softmax(tf.matmul(tf_test_dataset,weights) + biases)\n",
    "    \n",
    "    "
   ]
  },
  {
   "cell_type": "markdown",
   "metadata": {},
   "source": [
    "lets run it"
   ]
  },
  {
   "cell_type": "code",
   "execution_count": 18,
   "metadata": {
    "collapsed": false
   },
   "outputs": [
    {
     "name": "stdout",
     "output_type": "stream",
     "text": [
      "Initialized\n",
      "Loss at step 0: 315.913208\n",
      "Training accuracy: 8.3%\n",
      "Validation accuracy: 9.7%\n",
      "Test accuracy: 9.1%\n",
      "Loss at step 100: 2.758106\n",
      "Training accuracy: 80.2%\n",
      "Validation accuracy: 79.0%\n",
      "Test accuracy: 86.2%\n",
      "Loss at step 200: 0.998930\n",
      "Training accuracy: 81.8%\n",
      "Validation accuracy: 80.5%\n",
      "Test accuracy: 87.4%\n",
      "Loss at step 300: 0.986638\n",
      "Training accuracy: 81.8%\n",
      "Validation accuracy: 80.5%\n",
      "Test accuracy: 87.5%\n",
      "Loss at step 400: 0.985645\n",
      "Training accuracy: 81.8%\n",
      "Validation accuracy: 80.5%\n",
      "Test accuracy: 87.5%\n",
      "Loss at step 500: 0.985180\n",
      "Training accuracy: 81.8%\n",
      "Validation accuracy: 80.5%\n",
      "Test accuracy: 87.5%\n",
      "Loss at step 600: 0.984937\n",
      "Training accuracy: 81.9%\n",
      "Validation accuracy: 80.6%\n",
      "Test accuracy: 87.5%\n",
      "Loss at step 700: 0.984805\n",
      "Training accuracy: 81.9%\n",
      "Validation accuracy: 80.6%\n",
      "Test accuracy: 87.5%\n",
      "Loss at step 800: 0.984731\n",
      "Training accuracy: 81.9%\n",
      "Validation accuracy: 80.5%\n",
      "Test accuracy: 87.5%\n"
     ]
    }
   ],
   "source": [
    "num_steps = 801\n",
    "def accuracy(predictions, labels):\n",
    "    return (100.0 * np.sum(np.argmax(predictions, 1) == np.argmax(labels, 1))/ predictions.shape[0])\n",
    "with tf.Session(graph=graph) as session:\n",
    "    # This is a one-time operation which ensures the parameters get initialized as\n",
    "    # we described in the graph: random weights for the matrix, zeros for the\n",
    "    # biases. \n",
    "    tf.initialize_all_variables().run()\n",
    "    print(\"Initialized\")\n",
    "    for step in range(801):\n",
    "        # Run the computations. We tell .run() that we want to run the optimizer,\n",
    "        # and get the loss value and the training predictions returned as numpy\n",
    "        # arrays.\n",
    "        _, l, predictions = session.run([optimizer, loss, train_prediction])\n",
    "        if (step % 100 == 0):\n",
    "            print('Loss at step %d: %f' % (step, l))\n",
    "            print('Training accuracy: %.1f%%' % accuracy(\n",
    "                    predictions, train_labels[:train_subset, :]))\n",
    "            # Calling .eval() on valid_prediction is basically like calling run(), but\n",
    "            # just to get that one numpy array. Note that it recomputes all its graph\n",
    "            # dependencies.\n",
    "            print('Validation accuracy: %.1f%%' % accuracy(valid_prediction.eval(), valid_labels))\n",
    "            print('Test accuracy: %.1f%%' % accuracy(test_prediction.eval(), test_labels))"
   ]
  },
  {
   "cell_type": "markdown",
   "metadata": {},
   "source": [
    "# Neural Network With Hidden Layer"
   ]
  },
  {
   "cell_type": "code",
   "execution_count": 36,
   "metadata": {
    "collapsed": false
   },
   "outputs": [],
   "source": [
    "batch_size = 128\n",
    "train_subset = 10000\n",
    "graph = tf.Graph()\n",
    "hidden_layer = 1024\n",
    "with graph.as_default():\n",
    "    #input data\n",
    "    # Load the training, validation and test data into constants that are\n",
    "    # attached to the graph.\n",
    "    tf_train_dataset = tf.placeholder(np.float32,shape = (batch_size, image_size * image_size))\n",
    "    tf_train_labels = tf.placeholder(np.float32, shape=(batch_size, num_labels))\n",
    "    tf_test_dataset = tf.constant(test_dataset)\n",
    "    tf_test_labels = tf.constant(test_labels)\n",
    "    tf_valid_dataset = tf.constant(valid_dataset)\n",
    "    tf_valid_labels = tf.constant(valid_labels)\n",
    "    \n",
    "    # Variables.\n",
    "    # These are the parameters that we are going to be training. The weight\n",
    "    # matrix will be initialized using random valued following a (truncated)\n",
    "    # normal distribution. The biases get initialized to zero.\n",
    "    weights_hidden = tf.Variable(tf.truncated_normal([image_size*image_size,hidden_layer]))\n",
    "    biases_hidden = tf.Variable(tf.truncated_normal([hidden_layer]))\n",
    "    weights = tf.Variable(tf.truncated_normal([hidden_layer, num_labels]))\n",
    "    biases = tf.Variable(tf.zeros([num_labels]))\n",
    "    \n",
    "    # Training computation.\n",
    "    # We multiply the inputs with the weight matrix, and add biases. We compute\n",
    "    # the softmax and cross-entropy (it's one operation in TensorFlow, because\n",
    "    # it's very common, and it can be optimized). We take the average of this\n",
    "    # cross-entropy across all training examples: that's our loss.\n",
    "    logits_hidden = tf.nn.relu(tf.matmul(tf_train_dataset,weights_hidden) + biases_hidden)\n",
    "    logits = tf.matmul(logits_hidden,weights) + biases\n",
    "    reg_beta = 0.001\n",
    "    loss = tf.reduce_mean(tf.nn.softmax_cross_entropy_with_logits(logits,tf_train_labels) + reg_beta* tf.nn.l2_loss(weights_hidden) + reg_beta * tf.nn.l2_loss(weights)) \n",
    "    \n",
    "    \n",
    "    #Optimizer\n",
    "    # We are going to find the minimum of this loss using gradient descent.\n",
    "    optimizer = tf.train.GradientDescentOptimizer(0.5).minimize(loss)\n",
    "    \n",
    "    # Predictions for the training, validation, and test data.\n",
    "    # These are not part of training, but merely here so that we can report\n",
    "    # accuracy figures as we train.\n",
    "    train_prediction = tf.nn.softmax(logits)\n",
    "    valid_prediction = tf.nn.softmax(tf.matmul(tf.nn.relu(tf.matmul(tf_valid_dataset,weights_hidden)+ biases_hidden), weights) + biases)\n",
    "    test_prediction = tf.nn.softmax(tf.matmul(tf.nn.relu(tf.matmul(tf_test_dataset,weights_hidden)+ biases_hidden), weights) + biases)"
   ]
  },
  {
   "cell_type": "code",
   "execution_count": 39,
   "metadata": {
    "collapsed": false
   },
   "outputs": [
    {
     "name": "stdout",
     "output_type": "stream",
     "text": [
      "Initialized\n",
      "Minibatch Loss as step 0 : 622.306702\n",
      "Minibatch Accuracy : 6%\n",
      "Validation Accuracy : 21%\n",
      "Test Accuracy : 23%\n",
      "Minibatch Loss as step 500 : 197.749237\n",
      "Minibatch Accuracy : 84%\n",
      "Validation Accuracy : 81%\n",
      "Test Accuracy : 87%\n",
      "Minibatch Loss as step 1000 : 114.518021\n",
      "Minibatch Accuracy : 81%\n",
      "Validation Accuracy : 81%\n",
      "Test Accuracy : 89%\n",
      "Minibatch Loss as step 1500 : 68.359032\n",
      "Minibatch Accuracy : 91%\n",
      "Validation Accuracy : 82%\n",
      "Test Accuracy : 89%\n",
      "Minibatch Loss as step 2000 : 41.192886\n",
      "Minibatch Accuracy : 89%\n",
      "Validation Accuracy : 85%\n",
      "Test Accuracy : 92%\n",
      "Minibatch Loss as step 2500 : 25.106058\n",
      "Minibatch Accuracy : 91%\n",
      "Validation Accuracy : 86%\n",
      "Test Accuracy : 92%\n",
      "Minibatch Loss as step 3000 : 15.500160\n",
      "Minibatch Accuracy : 88%\n",
      "Validation Accuracy : 86%\n",
      "Test Accuracy : 93%\n"
     ]
    }
   ],
   "source": [
    "num_steps = 3001\n",
    "\n",
    "with tf.Session(graph = graph) as session :\n",
    "    tf.initialize_all_variables().run()\n",
    "    print('Initialized')\n",
    "    \n",
    "    for step in range(num_steps):\n",
    "        # Pick an offset within the training data, which has been randomized.\n",
    "        # Note: we could use better randomization across epochs.\n",
    "        offset = (step * batch_size) % (train_labels.shape[0] - batch_size)\n",
    "        # Generate a minibatch.\n",
    "        batch_data = train_dataset[offset:(offset + batch_size), :]\n",
    "        batch_labels = train_labels[offset:(offset + batch_size), :]\n",
    "        # Prepare a dictionary telling the session where to feed the minibatch.  \n",
    "        # The key of the dictionary is the placeholder node of the graph to be fed,\n",
    "        # and the value is the numpy array to feed to it.\n",
    "        feed_dict = {tf_train_dataset : batch_data, tf_train_labels : batch_labels}\n",
    "        _, l, predictions = session.run([optimizer, loss,train_prediction],feed_dict = feed_dict)\n",
    "        \n",
    "        if step % 500 == 0:\n",
    "            print(\"Minibatch Loss as step %d : %f\" % (step, l))\n",
    "            print(\"Minibatch Accuracy : %.lf%%\" % accuracy(predictions,batch_labels))\n",
    "            print(\"Validation Accuracy : %.lf%%\" % accuracy(valid_prediction.eval(),valid_labels))\n",
    "            print(\"Test Accuracy : %.lf%%\" % accuracy(test_prediction.eval(),test_labels))\n",
    "        "
   ]
  },
  {
   "cell_type": "markdown",
   "metadata": {},
   "source": [
    "# Problem 2\n",
    "Let's demonstrate an extreme case of overfitting. Restrict your training data to just a few batches. What happens?"
   ]
  },
  {
   "cell_type": "code",
   "execution_count": 60,
   "metadata": {
    "collapsed": false
   },
   "outputs": [
    {
     "name": "stdout",
     "output_type": "stream",
     "text": [
      "Initialized\n",
      "Minibatch Loss as step 0 : 602.929321\n",
      "Minibatch Accuracy : 9%\n",
      "Validation Accuracy : 38%\n",
      "Test Accuracy : 42%\n",
      "Minibatch Loss as step 500 : 190.193207\n",
      "Minibatch Accuracy : 100%\n",
      "Validation Accuracy : 77%\n",
      "Test Accuracy : 84%\n",
      "Minibatch Loss as step 1000 : 115.343567\n",
      "Minibatch Accuracy : 100%\n",
      "Validation Accuracy : 77%\n",
      "Test Accuracy : 84%\n",
      "Minibatch Loss as step 1500 : 69.950844\n",
      "Minibatch Accuracy : 100%\n",
      "Validation Accuracy : 77%\n",
      "Test Accuracy : 84%\n",
      "Minibatch Loss as step 2000 : 42.422249\n",
      "Minibatch Accuracy : 100%\n",
      "Validation Accuracy : 76%\n",
      "Test Accuracy : 84%\n",
      "Minibatch Loss as step 2500 : 25.728029\n",
      "Minibatch Accuracy : 100%\n",
      "Validation Accuracy : 77%\n",
      "Test Accuracy : 84%\n",
      "Minibatch Loss as step 3000 : 15.605494\n",
      "Minibatch Accuracy : 100%\n",
      "Validation Accuracy : 77%\n",
      "Test Accuracy : 85%\n"
     ]
    }
   ],
   "source": [
    "train_subset = 1000\n",
    "num_steps = 3001\n",
    "train_dataset_overfit = train_dataset[0:train_subset+1,:]\n",
    "train_labels_overfit = train_labels[0:train_subset+1,:]\n",
    "with tf.Session(graph = graph) as session :\n",
    "    tf.initialize_all_variables().run()\n",
    "    print('Initialized')\n",
    "    \n",
    "    for step in range(num_steps):\n",
    "        # Pick an offset within the training data, which has been randomized.\n",
    "        # Note: we could use better randomization across epochs.\n",
    "        offset = (step * batch_size) % (train_labels_overfit.shape[0] - batch_size)\n",
    "        # Generate a minibatch.\n",
    "        batch_data = train_dataset_overfit[offset:(offset + batch_size), :]\n",
    "        batch_labels = train_labels_overfit[offset:(offset + batch_size), :]\n",
    "        # Prepare a dictionary telling the session where to feed the minibatch.  \n",
    "        # The key of the dictionary is the placeholder node of the graph to be fed,\n",
    "        # and the value is the numpy array to feed to it.\n",
    "        feed_dict = {tf_train_dataset : batch_data, tf_train_labels : batch_labels}\n",
    "        _, l, predictions = session.run([optimizer, loss,train_prediction],feed_dict = feed_dict)\n",
    "        \n",
    "        if step % 500 == 0:\n",
    "            print(\"Minibatch Loss as step %d : %f\" % (step, l))\n",
    "            print(\"Minibatch Accuracy : %.lf%%\" % accuracy(predictions,batch_labels))\n",
    "            print(\"Validation Accuracy : %.lf%%\" % accuracy(valid_prediction.eval(),valid_labels))\n",
    "            print(\"Test Accuracy : %.lf%%\" % accuracy(test_prediction.eval(),test_labels))\n",
    "        "
   ]
  },
  {
   "cell_type": "markdown",
   "metadata": {},
   "source": [
    "# Problem 3\n",
    "Introduce Dropout on the hidden layer of the neural network. Remember: Dropout should only be introduced during training, not evaluation, otherwise your evaluation results would be stochastic as well. TensorFlow provides nn.dropout() for that, but you have to make sure it's only inserted during training.\n",
    "What happens to our extreme overfitting case?"
   ]
  },
  {
   "cell_type": "code",
   "execution_count": 64,
   "metadata": {
    "collapsed": true
   },
   "outputs": [],
   "source": [
    "batch_size = 128\n",
    "train_subset = 10000\n",
    "graph = tf.Graph()\n",
    "hidden_layer = 1024\n",
    "with graph.as_default():\n",
    "    #input data\n",
    "    # Load the training, validation and test data into constants that are\n",
    "    # attached to the graph.\n",
    "    tf_train_dataset = tf.placeholder(np.float32,shape = (batch_size, image_size * image_size))\n",
    "    tf_train_labels = tf.placeholder(np.float32, shape=(batch_size, num_labels))\n",
    "    tf_test_dataset = tf.constant(test_dataset)\n",
    "    tf_test_labels = tf.constant(test_labels)\n",
    "    tf_valid_dataset = tf.constant(valid_dataset)\n",
    "    tf_valid_labels = tf.constant(valid_labels)\n",
    "    \n",
    "    # Variables.\n",
    "    # These are the parameters that we are going to be training. The weight\n",
    "    # matrix will be initialized using random valued following a (truncated)\n",
    "    # normal distribution. The biases get initialized to zero.\n",
    "    weights_hidden = tf.Variable(tf.truncated_normal([image_size*image_size,hidden_layer]))\n",
    "    biases_hidden = tf.Variable(tf.truncated_normal([hidden_layer]))\n",
    "    weights = tf.Variable(tf.truncated_normal([hidden_layer, num_labels]))\n",
    "    biases = tf.Variable(tf.zeros([num_labels]))\n",
    "    \n",
    "    # Training computation.\n",
    "    # We multiply the inputs with the weight matrix, and add biases. We compute\n",
    "    # the softmax and cross-entropy (it's one operation in TensorFlow, because\n",
    "    # it's very common, and it can be optimized). We take the average of this\n",
    "    # cross-entropy across all training examples: that's our loss.\n",
    "    logits_hidden = tf.nn.relu(tf.matmul(tf_train_dataset,weights_hidden) + biases_hidden)\n",
    "    logits_dropout = tf.matmul(tf.nn.dropout(logits_hidden,0.5),weights) + biases\n",
    "    logits = tf.matmul(logits_hidden,weights) + biases\n",
    "    reg_beta = 0.001\n",
    "    loss = tf.reduce_mean(tf.nn.softmax_cross_entropy_with_logits(logits_dropout,tf_train_labels) + reg_beta* tf.nn.l2_loss(weights_hidden) + reg_beta * tf.nn.l2_loss(weights)) \n",
    "    \n",
    "    \n",
    "    #Optimizer\n",
    "    # We are going to find the minimum of this loss using gradient descent.\n",
    "    optimizer = tf.train.GradientDescentOptimizer(0.5).minimize(loss)\n",
    "    \n",
    "    # Predictions for the training, validation, and test data.\n",
    "    # These are not part of training, but merely here so that we can report\n",
    "    # accuracy figures as we train.\n",
    "    train_prediction = tf.nn.softmax(logits)\n",
    "    valid_prediction = tf.nn.softmax(tf.matmul(tf.nn.relu(tf.matmul(tf_valid_dataset,weights_hidden)+ biases_hidden), weights) + biases)\n",
    "    test_prediction = tf.nn.softmax(tf.matmul(tf.nn.relu(tf.matmul(tf_test_dataset,weights_hidden)+ biases_hidden), weights) + biases)"
   ]
  },
  {
   "cell_type": "code",
   "execution_count": 65,
   "metadata": {
    "collapsed": false
   },
   "outputs": [
    {
     "name": "stdout",
     "output_type": "stream",
     "text": [
      "Initialized\n",
      "Minibatch Loss as step 0 : 777.305420\n",
      "Minibatch Accuracy : 14%\n",
      "Validation Accuracy : 24%\n",
      "Test Accuracy : 26%\n",
      "Minibatch Loss as step 500 : 204.859985\n",
      "Minibatch Accuracy : 81%\n",
      "Validation Accuracy : 81%\n",
      "Test Accuracy : 87%\n",
      "Minibatch Loss as step 1000 : 116.302757\n",
      "Minibatch Accuracy : 83%\n",
      "Validation Accuracy : 80%\n",
      "Test Accuracy : 88%\n",
      "Minibatch Loss as step 1500 : 69.382439\n",
      "Minibatch Accuracy : 88%\n",
      "Validation Accuracy : 82%\n",
      "Test Accuracy : 89%\n",
      "Minibatch Loss as step 2000 : 41.442474\n",
      "Minibatch Accuracy : 88%\n",
      "Validation Accuracy : 84%\n",
      "Test Accuracy : 90%\n",
      "Minibatch Loss as step 2500 : 25.358868\n",
      "Minibatch Accuracy : 84%\n",
      "Validation Accuracy : 84%\n",
      "Test Accuracy : 91%\n",
      "Minibatch Loss as step 3000 : 15.585005\n",
      "Minibatch Accuracy : 86%\n",
      "Validation Accuracy : 85%\n",
      "Test Accuracy : 92%\n"
     ]
    }
   ],
   "source": [
    "num_steps = 3001\n",
    "\n",
    "with tf.Session(graph = graph) as session :\n",
    "    tf.initialize_all_variables().run()\n",
    "    print('Initialized')\n",
    "    \n",
    "    for step in range(num_steps):\n",
    "        # Pick an offset within the training data, which has been randomized.\n",
    "        # Note: we could use better randomization across epochs.\n",
    "        offset = (step * batch_size) % (train_labels.shape[0] - batch_size)\n",
    "        # Generate a minibatch.\n",
    "        batch_data = train_dataset[offset:(offset + batch_size), :]\n",
    "        batch_labels = train_labels[offset:(offset + batch_size), :]\n",
    "        # Prepare a dictionary telling the session where to feed the minibatch.  \n",
    "        # The key of the dictionary is the placeholder node of the graph to be fed,\n",
    "        # and the value is the numpy array to feed to it.\n",
    "        feed_dict = {tf_train_dataset : batch_data, tf_train_labels : batch_labels}\n",
    "        _, l, predictions = session.run([optimizer, loss,train_prediction],feed_dict = feed_dict)\n",
    "        \n",
    "        if step % 500 == 0:\n",
    "            print(\"Minibatch Loss as step %d : %f\" % (step, l))\n",
    "            print(\"Minibatch Accuracy : %.lf%%\" % accuracy(predictions,batch_labels))\n",
    "            print(\"Validation Accuracy : %.lf%%\" % accuracy(valid_prediction.eval(),valid_labels))\n",
    "            print(\"Test Accuracy : %.lf%%\" % accuracy(test_prediction.eval(),test_labels))\n",
    "        "
   ]
  },
  {
   "cell_type": "markdown",
   "metadata": {},
   "source": [
    "# Problem 4\n",
    "Try to get the best performance you can using a multi-layer model! The best reported test accuracy using a deep network is 97.1%.\n",
    "One avenue you can explore is to add multiple layers.\n",
    "Another one is to use learning rate decay:\n",
    "`global_step = tf.Variable(0)  # count the number of steps taken.\n",
    "learning_rate = tf.train.exponential_decay(0.5, global_step, ...)\n",
    "optimizer = tf.train.GradientDescentOptimizer(learning_rate).minimize(loss, global_step=global_step)`"
   ]
  },
  {
   "cell_type": "code",
   "execution_count": 75,
   "metadata": {
    "collapsed": false
   },
   "outputs": [],
   "source": [
    "batch_size = 128\n",
    "train_subset = 10000\n",
    "graph = tf.Graph()\n",
    "hidden_layer = 1024\n",
    "with graph.as_default():\n",
    "    #input data\n",
    "    # Load the training, validation and test data into constants that are\n",
    "    # attached to the graph.\n",
    "    tf_train_dataset = tf.placeholder(np.float32,shape = (batch_size, image_size * image_size))\n",
    "    tf_train_labels = tf.placeholder(np.float32, shape=(batch_size, num_labels))\n",
    "    tf_test_dataset = tf.constant(test_dataset)\n",
    "    tf_test_labels = tf.constant(test_labels)\n",
    "    tf_valid_dataset = tf.constant(valid_dataset)\n",
    "    tf_valid_labels = tf.constant(valid_labels)\n",
    "    \n",
    "    # Variables.\n",
    "    # These are the parameters that we are going to be training. The weight\n",
    "    # matrix will be initialized using random valued following a (truncated)\n",
    "    # normal distribution. The biases get initialized to zero.\n",
    "    weights_hidden = tf.Variable(tf.truncated_normal([image_size*image_size,hidden_layer]))\n",
    "    biases_hidden = tf.Variable(tf.truncated_normal([hidden_layer]))\n",
    "    weights = tf.Variable(tf.truncated_normal([hidden_layer, num_labels]))\n",
    "    biases = tf.Variable(tf.zeros([num_labels]))\n",
    "    \n",
    "    # Training computation.\n",
    "    # We multiply the inputs with the weight matrix, and add biases. We compute\n",
    "    # the softmax and cross-entropy (it's one operation in TensorFlow, because\n",
    "    # it's very common, and it can be optimized). We take the average of this\n",
    "    # cross-entropy across all training examples: that's our loss.\n",
    "    logits_hidden = tf.nn.relu(tf.matmul(tf_train_dataset,weights_hidden) + biases_hidden)\n",
    "    logits_dropout = tf.matmul(tf.nn.dropout(logits_hidden,0.5),weights) + biases\n",
    "    logits = tf.matmul(logits_hidden,weights) + biases\n",
    "    reg_beta = 0.00\n",
    "    loss = tf.reduce_mean(tf.nn.softmax_cross_entropy_with_logits(logits_dropout,tf_train_labels) + reg_beta* tf.nn.l2_loss(weights_hidden) + reg_beta * tf.nn.l2_loss(weights)) \n",
    "    \n",
    "    global_step = tf.Variable(0)\n",
    "    learning_rate = tf.train.exponential_decay(0.5,global_step,decay_steps=500,decay_rate=0.9)\n",
    "    #Optimizer\n",
    "    # We are going to find the minimum of this loss using gradient descent.\n",
    "    optimizer = tf.train.GradientDescentOptimizer(learning_rate).minimize(loss,global_step=global_step)\n",
    "    \n",
    "    # Predictions for the training, validation, and test data.\n",
    "    # These are not part of training, but merely here so that we can report\n",
    "    # accuracy figures as we train.\n",
    "    train_prediction = tf.nn.softmax(logits)\n",
    "    valid_prediction = tf.nn.softmax(tf.matmul(tf.nn.relu(tf.matmul(tf_valid_dataset,weights_hidden)+ biases_hidden), weights) + biases)\n",
    "    test_prediction = tf.nn.softmax(tf.matmul(tf.nn.relu(tf.matmul(tf_test_dataset,weights_hidden)+ biases_hidden), weights) + biases)"
   ]
  },
  {
   "cell_type": "code",
   "execution_count": 77,
   "metadata": {
    "collapsed": false
   },
   "outputs": [
    {
     "name": "stdout",
     "output_type": "stream",
     "text": [
      "Initialized\n",
      "Minibatch Loss as step 0 : 497.256409\n",
      "Minibatch Accuracy : 8%\n",
      "Validation Accuracy : 24%\n",
      "Test Accuracy : 26%\n",
      "Minibatch Loss as step 500 : 39.136353\n",
      "Minibatch Accuracy : 80%\n",
      "Validation Accuracy : 78%\n",
      "Test Accuracy : 85%\n",
      "Minibatch Loss as step 1000 : 19.836321\n",
      "Minibatch Accuracy : 78%\n",
      "Validation Accuracy : 81%\n",
      "Test Accuracy : 87%\n",
      "Minibatch Loss as step 1500 : 12.477496\n",
      "Minibatch Accuracy : 84%\n",
      "Validation Accuracy : 81%\n",
      "Test Accuracy : 88%\n",
      "Minibatch Loss as step 2000 : 4.958841\n",
      "Minibatch Accuracy : 87%\n",
      "Validation Accuracy : 81%\n",
      "Test Accuracy : 88%\n",
      "Minibatch Loss as step 2500 : 4.081308\n",
      "Minibatch Accuracy : 81%\n",
      "Validation Accuracy : 81%\n",
      "Test Accuracy : 88%\n",
      "Minibatch Loss as step 3000 : 2.724838\n",
      "Minibatch Accuracy : 81%\n",
      "Validation Accuracy : 81%\n",
      "Test Accuracy : 88%\n",
      "Minibatch Loss as step 3500 : 6.158775\n",
      "Minibatch Accuracy : 81%\n",
      "Validation Accuracy : 81%\n",
      "Test Accuracy : 88%\n",
      "Minibatch Loss as step 4000 : 5.730414\n",
      "Minibatch Accuracy : 85%\n",
      "Validation Accuracy : 81%\n",
      "Test Accuracy : 88%\n",
      "Minibatch Loss as step 4500 : 3.905925\n",
      "Minibatch Accuracy : 84%\n",
      "Validation Accuracy : 82%\n",
      "Test Accuracy : 89%\n",
      "Minibatch Loss as step 5000 : 7.632661\n",
      "Minibatch Accuracy : 87%\n",
      "Validation Accuracy : 81%\n",
      "Test Accuracy : 88%\n",
      "Minibatch Loss as step 5500 : 2.130917\n",
      "Minibatch Accuracy : 78%\n",
      "Validation Accuracy : 82%\n",
      "Test Accuracy : 89%\n",
      "Minibatch Loss as step 6000 : 1.538623\n",
      "Minibatch Accuracy : 80%\n",
      "Validation Accuracy : 82%\n",
      "Test Accuracy : 89%\n",
      "Minibatch Loss as step 6500 : 1.617343\n",
      "Minibatch Accuracy : 86%\n",
      "Validation Accuracy : 83%\n",
      "Test Accuracy : 90%\n",
      "Minibatch Loss as step 7000 : 3.403000\n",
      "Minibatch Accuracy : 77%\n",
      "Validation Accuracy : 83%\n",
      "Test Accuracy : 90%\n",
      "Minibatch Loss as step 7500 : 1.901696\n",
      "Minibatch Accuracy : 84%\n",
      "Validation Accuracy : 83%\n",
      "Test Accuracy : 90%\n",
      "Minibatch Loss as step 8000 : 3.680161\n",
      "Minibatch Accuracy : 73%\n",
      "Validation Accuracy : 83%\n",
      "Test Accuracy : 90%\n",
      "Minibatch Loss as step 8500 : 0.911139\n",
      "Minibatch Accuracy : 90%\n",
      "Validation Accuracy : 83%\n",
      "Test Accuracy : 90%\n",
      "Minibatch Loss as step 9000 : 2.940427\n",
      "Minibatch Accuracy : 83%\n",
      "Validation Accuracy : 83%\n",
      "Test Accuracy : 90%\n",
      "Minibatch Loss as step 9500 : 2.257206\n",
      "Minibatch Accuracy : 86%\n",
      "Validation Accuracy : 84%\n",
      "Test Accuracy : 90%\n",
      "Minibatch Loss as step 10000 : 1.061233\n",
      "Minibatch Accuracy : 84%\n",
      "Validation Accuracy : 84%\n",
      "Test Accuracy : 91%\n"
     ]
    }
   ],
   "source": [
    "num_steps = 10001\n",
    "\n",
    "with tf.Session(graph = graph) as session :\n",
    "    tf.initialize_all_variables().run()\n",
    "    print('Initialized')\n",
    "    \n",
    "    for step in range(num_steps):\n",
    "        # Pick an offset within the training data, which has been randomized.\n",
    "        # Note: we could use better randomization across epochs.\n",
    "        offset = (step * batch_size) % (train_labels.shape[0] - batch_size)\n",
    "        # Generate a minibatch.\n",
    "        batch_data = train_dataset[offset:(offset + batch_size), :]\n",
    "        batch_labels = train_labels[offset:(offset + batch_size), :]\n",
    "        # Prepare a dictionary telling the session where to feed the minibatch.  \n",
    "        # The key of the dictionary is the placeholder node of the graph to be fed,\n",
    "        # and the value is the numpy array to feed to it.\n",
    "        feed_dict = {tf_train_dataset : batch_data, tf_train_labels : batch_labels}\n",
    "        _, l, predictions = session.run([optimizer, loss,train_prediction],feed_dict = feed_dict)\n",
    "        \n",
    "        if step % 500 == 0:\n",
    "            print(\"Minibatch Loss as step %d : %f\" % (step, l))\n",
    "            print(\"Minibatch Accuracy : %.lf%%\" % accuracy(predictions,batch_labels))\n",
    "            print(\"Validation Accuracy : %.lf%%\" % accuracy(valid_prediction.eval(),valid_labels))\n",
    "            print(\"Test Accuracy : %.lf%%\" % accuracy(test_prediction.eval(),test_labels))\n",
    "        "
   ]
  },
  {
   "cell_type": "code",
   "execution_count": null,
   "metadata": {
    "collapsed": true
   },
   "outputs": [],
   "source": []
  }
 ],
 "metadata": {
  "anaconda-cloud": {},
  "kernelspec": {
   "display_name": "Python [conda env:tensorflow]",
   "language": "python",
   "name": "conda-env-tensorflow-py"
  },
  "language_info": {
   "codemirror_mode": {
    "name": "ipython",
    "version": 2
   },
   "file_extension": ".py",
   "mimetype": "text/x-python",
   "name": "python",
   "nbconvert_exporter": "python",
   "pygments_lexer": "ipython2",
   "version": "2.7.12"
  }
 },
 "nbformat": 4,
 "nbformat_minor": 2
}
